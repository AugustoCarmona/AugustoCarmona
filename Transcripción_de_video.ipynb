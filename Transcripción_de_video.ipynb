{
  "cells": [
    {
      "cell_type": "markdown",
      "metadata": {
        "id": "view-in-github",
        "colab_type": "text"
      },
      "source": [
        "<a href=\"https://colab.research.google.com/github/AugustoCarmona/AugustoCarmona/blob/master/Transcripci%C3%B3n_de_video.ipynb\" target=\"_parent\"><img src=\"https://colab.research.google.com/assets/colab-badge.svg\" alt=\"Open In Colab\"/></a>"
      ]
    },
    {
      "cell_type": "code",
      "source": [
        "link= \"\" #@param {type:\"string\"}\n",
        "\n",
        "!pip install git+https://github.com/openai/whisper.git;\n",
        "!sudo apt update && sudo apt install ffmpeg;\n",
        "!pip install pytube;\n",
        "\n",
        "import os, shutil, time\n",
        "from pytube import YouTube\n",
        "from google.colab import files\n",
        "from moviepy.editor import *\n",
        "\n",
        "download_path = '/content/tmp'\n",
        "\n",
        "yt = YouTube(link)\n",
        "stream = yt.streams.get_highest_resolution().download(output_path=download_path)\n",
        "\n",
        "time.sleep(30)\n",
        "\n",
        "obj = os.scandir(download_path)\n",
        "for entry in obj:\n",
        "    if entry.is_file():\n",
        "        video = entry.name\n",
        "\n",
        "video_path = os.path.join(download_path, video)\n",
        "audio_path = os.path.join(download_path, 'export.mp3')\n",
        "\n",
        "video = VideoFileClip(video_path)\n",
        "video.audio.write_audiofile(audio_path)\n",
        "\n",
        "time.sleep(30)\n",
        "\n",
        "!whisper \"{audio_path}\" --model medium\n",
        "\n",
        "folder = download_path\n",
        "for filename in os.listdir(folder):\n",
        "    file_path = os.path.join(folder, filename)\n",
        "    try:\n",
        "        if os.path.isfile(file_path) or os.path.islink(file_path):\n",
        "            os.unlink(file_path)\n",
        "        elif os.path.isdir(file_path):\n",
        "            shutil.rmtree(file_path)\n",
        "    except Exception as e:\n",
        "        print('Failed to delete %s. Reason: %s' % (file_path, e))\n",
        "\n",
        "files.download('export.txt')\n",
        "files.download('export.srt')"
      ],
      "metadata": {
        "cellView": "form",
        "id": "_H1fBVDqmzkY"
      },
      "execution_count": null,
      "outputs": []
    }
  ],
  "metadata": {
    "accelerator": "GPU",
    "colab": {
      "provenance": [],
      "include_colab_link": true
    },
    "kernelspec": {
      "display_name": "Python 3",
      "name": "python3"
    },
    "language_info": {
      "name": "python"
    }
  },
  "nbformat": 4,
  "nbformat_minor": 0
}